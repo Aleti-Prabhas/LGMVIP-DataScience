{
 "cells": [
  {
   "cell_type": "code",
   "execution_count": 1,
   "id": "29b2dd24",
   "metadata": {},
   "outputs": [],
   "source": [
    "import numpy as np \n",
    "import matplotlib.pyplot as plt\n",
    "import seaborn as sns"
   ]
  },
  {
   "cell_type": "code",
   "execution_count": 2,
   "id": "9ba81b45",
   "metadata": {},
   "outputs": [],
   "source": [
    "import pandas as pd\n",
    "import io\n",
    "import requests \n",
    "import datetime"
   ]
  },
  {
   "cell_type": "code",
   "execution_count": 3,
   "id": "b08bac08",
   "metadata": {},
   "outputs": [],
   "source": [
    "url=\"https://raw.githubusercontent.com/mwitiderrick/stockprice/master/NSE-TATAGLOBAL.csv\"\n",
    "df=pd.read_csv(url)"
   ]
  },
  {
   "cell_type": "code",
   "execution_count": 4,
   "id": "e827d725",
   "metadata": {},
   "outputs": [
    {
     "data": {
      "text/html": [
       "<div>\n",
       "<style scoped>\n",
       "    .dataframe tbody tr th:only-of-type {\n",
       "        vertical-align: middle;\n",
       "    }\n",
       "\n",
       "    .dataframe tbody tr th {\n",
       "        vertical-align: top;\n",
       "    }\n",
       "\n",
       "    .dataframe thead th {\n",
       "        text-align: right;\n",
       "    }\n",
       "</style>\n",
       "<table border=\"1\" class=\"dataframe\">\n",
       "  <thead>\n",
       "    <tr style=\"text-align: right;\">\n",
       "      <th></th>\n",
       "      <th>Date</th>\n",
       "      <th>Open</th>\n",
       "      <th>High</th>\n",
       "      <th>Low</th>\n",
       "      <th>Last</th>\n",
       "      <th>Close</th>\n",
       "      <th>Total Trade Quantity</th>\n",
       "      <th>Turnover (Lacs)</th>\n",
       "    </tr>\n",
       "  </thead>\n",
       "  <tbody>\n",
       "    <tr>\n",
       "      <th>0</th>\n",
       "      <td>2018-09-28</td>\n",
       "      <td>234.05</td>\n",
       "      <td>235.95</td>\n",
       "      <td>230.20</td>\n",
       "      <td>233.50</td>\n",
       "      <td>233.75</td>\n",
       "      <td>3069914</td>\n",
       "      <td>7162.35</td>\n",
       "    </tr>\n",
       "    <tr>\n",
       "      <th>1</th>\n",
       "      <td>2018-09-27</td>\n",
       "      <td>234.55</td>\n",
       "      <td>236.80</td>\n",
       "      <td>231.10</td>\n",
       "      <td>233.80</td>\n",
       "      <td>233.25</td>\n",
       "      <td>5082859</td>\n",
       "      <td>11859.95</td>\n",
       "    </tr>\n",
       "    <tr>\n",
       "      <th>2</th>\n",
       "      <td>2018-09-26</td>\n",
       "      <td>240.00</td>\n",
       "      <td>240.00</td>\n",
       "      <td>232.50</td>\n",
       "      <td>235.00</td>\n",
       "      <td>234.25</td>\n",
       "      <td>2240909</td>\n",
       "      <td>5248.60</td>\n",
       "    </tr>\n",
       "    <tr>\n",
       "      <th>3</th>\n",
       "      <td>2018-09-25</td>\n",
       "      <td>233.30</td>\n",
       "      <td>236.75</td>\n",
       "      <td>232.00</td>\n",
       "      <td>236.25</td>\n",
       "      <td>236.10</td>\n",
       "      <td>2349368</td>\n",
       "      <td>5503.90</td>\n",
       "    </tr>\n",
       "    <tr>\n",
       "      <th>4</th>\n",
       "      <td>2018-09-24</td>\n",
       "      <td>233.55</td>\n",
       "      <td>239.20</td>\n",
       "      <td>230.75</td>\n",
       "      <td>234.00</td>\n",
       "      <td>233.30</td>\n",
       "      <td>3423509</td>\n",
       "      <td>7999.55</td>\n",
       "    </tr>\n",
       "  </tbody>\n",
       "</table>\n",
       "</div>"
      ],
      "text/plain": [
       "         Date    Open    High     Low    Last   Close  Total Trade Quantity  \\\n",
       "0  2018-09-28  234.05  235.95  230.20  233.50  233.75               3069914   \n",
       "1  2018-09-27  234.55  236.80  231.10  233.80  233.25               5082859   \n",
       "2  2018-09-26  240.00  240.00  232.50  235.00  234.25               2240909   \n",
       "3  2018-09-25  233.30  236.75  232.00  236.25  236.10               2349368   \n",
       "4  2018-09-24  233.55  239.20  230.75  234.00  233.30               3423509   \n",
       "\n",
       "   Turnover (Lacs)  \n",
       "0          7162.35  \n",
       "1         11859.95  \n",
       "2          5248.60  \n",
       "3          5503.90  \n",
       "4          7999.55  "
      ]
     },
     "execution_count": 4,
     "metadata": {},
     "output_type": "execute_result"
    }
   ],
   "source": [
    "df.head()"
   ]
  },
  {
   "cell_type": "code",
   "execution_count": 5,
   "id": "9f42fad7",
   "metadata": {},
   "outputs": [],
   "source": [
    "df1=df.reset_index()['Open']"
   ]
  },
  {
   "cell_type": "code",
   "execution_count": 6,
   "id": "7a57e793",
   "metadata": {},
   "outputs": [
    {
     "data": {
      "text/plain": [
       "0       234.05\n",
       "1       234.55\n",
       "2       240.00\n",
       "3       233.30\n",
       "4       233.55\n",
       "         ...  \n",
       "2030    117.60\n",
       "2031    120.10\n",
       "2032    121.80\n",
       "2033    120.30\n",
       "2034    122.10\n",
       "Name: Open, Length: 2035, dtype: float64"
      ]
     },
     "execution_count": 6,
     "metadata": {},
     "output_type": "execute_result"
    }
   ],
   "source": [
    "df1"
   ]
  },
  {
   "cell_type": "code",
   "execution_count": 7,
   "id": "1a6b0f5b",
   "metadata": {},
   "outputs": [
    {
     "data": {
      "text/plain": [
       "[<matplotlib.lines.Line2D at 0x20c4bc81130>]"
      ]
     },
     "execution_count": 7,
     "metadata": {},
     "output_type": "execute_result"
    },
    {
     "data": {
      "image/png": "[encoded data removed]",
      "text/plain": [
       "<Figure size 432x288 with 1 Axes>"
      ]
     },
     "metadata": {
      "needs_background": "light"
     },
     "output_type": "display_data"
    }
   ],
   "source": [
    "plt.plot(df1)"
   ]
  },
  {
   "cell_type": "code",
   "execution_count": 8,
   "id": "7484cefd",
   "metadata": {},
   "outputs": [],
   "source": [
    "from sklearn.preprocessing import MinMaxScaler\n",
    "scaler=MinMaxScaler(feature_range=(0,1))\n",
    "df1=scaler.fit_transform(np.array(df1).reshape(-1,1))"
   ]
  },
  {
   "cell_type": "code",
   "execution_count": 9,
   "id": "90d18d19",
   "metadata": {},
   "outputs": [
    {
     "name": "stdout",
     "output_type": "stream",
     "text": [
      "[[0.6202352 ]\n",
      " [0.62226277]\n",
      " [0.64436334]\n",
      " ...\n",
      " [0.16504461]\n",
      " [0.15896188]\n",
      " [0.16626115]]\n"
     ]
    }
   ],
   "source": [
    "print(df1)"
   ]
  },
  {
   "cell_type": "code",
   "execution_count": 10,
   "id": "569c9c70",
   "metadata": {},
   "outputs": [],
   "source": [
    "train_size=int(len(df1)*0.75)\n",
    "test_size=len(df1)-train_size\n",
    "train_data,test_data=df1[0:train_size,:],df1[train_size:len(df1),:1]"
   ]
  },
  {
   "cell_type": "code",
   "execution_count": 11,
   "id": "7490cd65",
   "metadata": {},
   "outputs": [
    {
     "data": {
      "text/plain": [
       "(1526, 509)"
      ]
     },
     "execution_count": 11,
     "metadata": {},
     "output_type": "execute_result"
    }
   ],
   "source": [
    "train_size,test_size"
   ]
  },
  {
   "cell_type": "code",
   "execution_count": 12,
   "id": "631575c2",
   "metadata": {},
   "outputs": [
    {
     "data": {
      "text/plain": [
       "(array([[0.6202352 ],\n",
       "        [0.62226277],\n",
       "        [0.64436334],\n",
       "        ...,\n",
       "        [0.18491484],\n",
       "        [0.15774534],\n",
       "        [0.16180049]]),\n",
       " array([[0.15774534],\n",
       "        [0.15774534],\n",
       "        [0.16991079],\n",
       "        [0.13746959],\n",
       "        [0.14963504],\n",
       "        [0.16605839],\n",
       "        [0.15369019],\n",
       "        [0.14152474],\n",
       "        [0.13341444],\n",
       "        [0.13260341],\n",
       "        [0.12368208],\n",
       "        [0.12246553],\n",
       "        [0.13625304],\n",
       "        [0.11719384],\n",
       "        [0.13746959],\n",
       "        [0.15004055],\n",
       "        [0.15308191],\n",
       "        [0.15794809],\n",
       "        [0.15186537],\n",
       "        [0.14557989],\n",
       "        [0.14497161],\n",
       "        [0.14801298],\n",
       "        [0.14476886],\n",
       "        [0.11719384],\n",
       "        [0.11151663],\n",
       "        [0.10563666],\n",
       "        [0.10218978],\n",
       "        [0.09712084],\n",
       "        [0.09691809],\n",
       "        [0.11131387],\n",
       "        [0.10644769],\n",
       "        [0.11111111],\n",
       "        [0.1202352 ],\n",
       "        [0.11922141],\n",
       "        [0.13219789],\n",
       "        [0.10969181],\n",
       "        [0.11232766],\n",
       "        [0.10097324],\n",
       "        [0.09712084],\n",
       "        [0.09326845],\n",
       "        [0.10948905],\n",
       "        [0.10725872],\n",
       "        [0.11719384],\n",
       "        [0.12530414],\n",
       "        [0.10705596],\n",
       "        [0.11516626],\n",
       "        [0.11111111],\n",
       "        [0.10604217],\n",
       "        [0.10786699],\n",
       "        [0.10117599],\n",
       "        [0.10016221],\n",
       "        [0.11293593],\n",
       "        [0.09144363],\n",
       "        [0.08880779],\n",
       "        [0.10908354],\n",
       "        [0.12550689],\n",
       "        [0.1216545 ],\n",
       "        [0.12550689],\n",
       "        [0.14294404],\n",
       "        [0.14882401],\n",
       "        [0.14882401],\n",
       "        [0.15632603],\n",
       "        [0.1459854 ],\n",
       "        [0.15348743],\n",
       "        [0.14152474],\n",
       "        [0.14030819],\n",
       "        [0.14578264],\n",
       "        [0.15227088],\n",
       "        [0.14781022],\n",
       "        [0.17274939],\n",
       "        [0.18207624],\n",
       "        [0.15733982],\n",
       "        [0.15470397],\n",
       "        [0.15186537],\n",
       "        [0.14821573],\n",
       "        [0.16342255],\n",
       "        [0.1540957 ],\n",
       "        [0.13949716],\n",
       "        [0.14760746],\n",
       "        [0.14517437],\n",
       "        [0.15774534],\n",
       "        [0.1431468 ],\n",
       "        [0.12733171],\n",
       "        [0.11131387],\n",
       "        [0.11313869],\n",
       "        [0.12104623],\n",
       "        [0.11739659],\n",
       "        [0.1311841 ],\n",
       "        [0.13746959],\n",
       "        [0.17396594],\n",
       "        [0.13158962],\n",
       "        [0.11313869],\n",
       "        [0.13300892],\n",
       "        [0.14274128],\n",
       "        [0.16180049],\n",
       "        [0.15429846],\n",
       "        [0.14760746],\n",
       "        [0.15369019],\n",
       "        [0.14801298],\n",
       "        [0.13260341],\n",
       "        [0.13807786],\n",
       "        [0.15794809],\n",
       "        [0.16058394],\n",
       "        [0.17497972],\n",
       "        [0.18187348],\n",
       "        [0.16666667],\n",
       "        [0.13240065],\n",
       "        [0.15369019],\n",
       "        [0.16180049],\n",
       "        [0.14557989],\n",
       "        [0.16545012],\n",
       "        [0.15754258],\n",
       "        [0.1636253 ],\n",
       "        [0.15977291],\n",
       "        [0.16382806],\n",
       "        [0.16342255],\n",
       "        [0.15652879],\n",
       "        [0.17011354],\n",
       "        [0.14760746],\n",
       "        [0.12935929],\n",
       "        [0.14233577],\n",
       "        [0.15774534],\n",
       "        [0.11719384],\n",
       "        [0.11800487],\n",
       "        [0.14152474],\n",
       "        [0.08475264],\n",
       "        [0.06853204],\n",
       "        [0.05636659],\n",
       "        [0.05028386],\n",
       "        [0.04480941],\n",
       "        [0.04825629],\n",
       "        [0.05454177],\n",
       "        [0.0553528 ],\n",
       "        [0.06447689],\n",
       "        [0.07643958],\n",
       "        [0.01987024],\n",
       "        [0.05190592],\n",
       "        [0.04805353],\n",
       "        [0.05494728],\n",
       "        [0.04927007],\n",
       "        [0.05231144],\n",
       "        [0.05231144],\n",
       "        [0.04622871],\n",
       "        [0.05636659],\n",
       "        [0.05616383],\n",
       "        [0.04339011],\n",
       "        [0.03994323],\n",
       "        [0.04014599],\n",
       "        [0.02331711],\n",
       "        [0.02798054],\n",
       "        [0.0324412 ],\n",
       "        [0.03183293],\n",
       "        [0.03974047],\n",
       "        [0.01987024],\n",
       "        [0.02392539],\n",
       "        [0.01662612],\n",
       "        [0.02027575],\n",
       "        [0.03527981],\n",
       "        [0.02189781],\n",
       "        [0.0296026 ],\n",
       "        [0.02128954],\n",
       "        [0.03669911],\n",
       "        [0.0310219 ],\n",
       "        [0.03953771],\n",
       "        [0.04014599],\n",
       "        [0.04298459],\n",
       "        [0.03041363],\n",
       "        [0.01804542],\n",
       "        [0.01155718],\n",
       "        [0.01175994],\n",
       "        [0.00466342],\n",
       "        [0.0052717 ],\n",
       "        [0.        ],\n",
       "        [0.00608273],\n",
       "        [0.00405515],\n",
       "        [0.00567721],\n",
       "        [0.00446067],\n",
       "        [0.01175994],\n",
       "        [0.01946472],\n",
       "        [0.02473642],\n",
       "        [0.03284672],\n",
       "        [0.03345499],\n",
       "        [0.04176805],\n",
       "        [0.0405515 ],\n",
       "        [0.04257908],\n",
       "        [0.0405515 ],\n",
       "        [0.04014599],\n",
       "        [0.04318735],\n",
       "        [0.04136253],\n",
       "        [0.03203569],\n",
       "        [0.02392539],\n",
       "        [0.01824818],\n",
       "        [0.01987024],\n",
       "        [0.01784266],\n",
       "        [0.02372263],\n",
       "        [0.03081914],\n",
       "        [0.03609084],\n",
       "        [0.02879157],\n",
       "        [0.02189781],\n",
       "        [0.02919708],\n",
       "        [0.01987024],\n",
       "        [0.02047851],\n",
       "        [0.00851582],\n",
       "        [0.00587997],\n",
       "        [0.00973236],\n",
       "        [0.013382  ],\n",
       "        [0.01784266],\n",
       "        [0.01520681],\n",
       "        [0.02270884],\n",
       "        [0.03264396],\n",
       "        [0.02676399],\n",
       "        [0.02392539],\n",
       "        [0.0148013 ],\n",
       "        [0.04217356],\n",
       "        [0.04257908],\n",
       "        [0.03892944],\n",
       "        [0.03649635],\n",
       "        [0.04906732],\n",
       "        [0.04622871],\n",
       "        [0.04115977],\n",
       "        [0.04379562],\n",
       "        [0.04420114],\n",
       "        [0.05616383],\n",
       "        [0.05515004],\n",
       "        [0.05636659],\n",
       "        [0.0405515 ],\n",
       "        [0.04521492],\n",
       "        [0.05352798],\n",
       "        [0.05636659],\n",
       "        [0.03994323],\n",
       "        [0.04927007],\n",
       "        [0.04379562],\n",
       "        [0.04744526],\n",
       "        [0.04420114],\n",
       "        [0.03122466],\n",
       "        [0.02007299],\n",
       "        [0.06042174],\n",
       "        [0.06893755],\n",
       "        [0.09184915],\n",
       "        [0.09164639],\n",
       "        [0.10077048],\n",
       "        [0.09610706],\n",
       "        [0.08678021],\n",
       "        [0.08880779],\n",
       "        [0.10948905],\n",
       "        [0.1107056 ],\n",
       "        [0.09164639],\n",
       "        [0.09935118],\n",
       "        [0.10989457],\n",
       "        [0.10827251],\n",
       "        [0.1054339 ],\n",
       "        [0.10056772],\n",
       "        [0.10056772],\n",
       "        [0.09083536],\n",
       "        [0.07765612],\n",
       "        [0.08049473],\n",
       "        [0.08880779],\n",
       "        [0.08941606],\n",
       "        [0.08069749],\n",
       "        [0.09042985],\n",
       "        [0.07866991],\n",
       "        [0.08069749],\n",
       "        [0.09691809],\n",
       "        [0.07704785],\n",
       "        [0.09610706],\n",
       "        [0.09266018],\n",
       "        [0.08982157],\n",
       "        [0.09975669],\n",
       "        [0.07177616],\n",
       "        [0.06853204],\n",
       "        [0.04987835],\n",
       "        [0.05109489],\n",
       "        [0.04805353],\n",
       "        [0.04034874],\n",
       "        [0.04217356],\n",
       "        [0.03730738],\n",
       "        [0.05109489],\n",
       "        [0.05433901],\n",
       "        [0.07137064],\n",
       "        [0.0648824 ],\n",
       "        [0.06812652],\n",
       "        [0.07643958],\n",
       "        [0.08008921],\n",
       "        [0.06042174],\n",
       "        [0.06407137],\n",
       "        [0.07177616],\n",
       "        [0.05961071],\n",
       "        [0.05231144],\n",
       "        [0.04541768],\n",
       "        [0.05231144],\n",
       "        [0.04257908],\n",
       "        [0.02798054],\n",
       "        [0.02696675],\n",
       "        [0.03041363],\n",
       "        [0.01885645],\n",
       "        [0.03000811],\n",
       "        [0.04480941],\n",
       "        [0.06103001],\n",
       "        [0.06650446],\n",
       "        [0.06123277],\n",
       "        [0.06427413],\n",
       "        [0.06650446],\n",
       "        [0.06549067],\n",
       "        [0.07319546],\n",
       "        [0.06853204],\n",
       "        [0.07988646],\n",
       "        [0.07887267],\n",
       "        [0.06853204],\n",
       "        [0.06914031],\n",
       "        [0.06812652],\n",
       "        [0.06812652],\n",
       "        [0.07583131],\n",
       "        [0.07684509],\n",
       "        [0.08069749],\n",
       "        [0.08759124],\n",
       "        [0.09610706],\n",
       "        [0.09894566],\n",
       "        [0.08657745],\n",
       "        [0.08860503],\n",
       "        [0.08272506],\n",
       "        [0.08475264],\n",
       "        [0.07866991],\n",
       "        [0.09083536],\n",
       "        [0.09083536],\n",
       "        [0.08373885],\n",
       "        [0.09549878],\n",
       "        [0.11415247],\n",
       "        [0.10644769],\n",
       "        [0.1040146 ],\n",
       "        [0.10421736],\n",
       "        [0.08069749],\n",
       "        [0.06751825],\n",
       "        [0.0663017 ],\n",
       "        [0.06650446],\n",
       "        [0.07055961],\n",
       "        [0.06934307],\n",
       "        [0.07542579],\n",
       "        [0.06853204],\n",
       "        [0.06873479],\n",
       "        [0.06954582],\n",
       "        [0.07137064],\n",
       "        [0.06934307],\n",
       "        [0.06853204],\n",
       "        [0.07258719],\n",
       "        [0.07542579],\n",
       "        [0.08718573],\n",
       "        [0.06082725],\n",
       "        [0.06001622],\n",
       "        [0.0553528 ],\n",
       "        [0.03203569],\n",
       "        [0.03609084],\n",
       "        [0.03730738],\n",
       "        [0.04014599],\n",
       "        [0.03527981],\n",
       "        [0.02798054],\n",
       "        [0.03000811],\n",
       "        [0.05879968],\n",
       "        [0.06326034],\n",
       "        [0.06042174],\n",
       "        [0.05798865],\n",
       "        [0.08272506],\n",
       "        [0.05961071],\n",
       "        [0.05981346],\n",
       "        [0.05778589],\n",
       "        [0.04602595],\n",
       "        [0.0310219 ],\n",
       "        [0.02879157],\n",
       "        [0.04825629],\n",
       "        [0.06042174],\n",
       "        [0.06731549],\n",
       "        [0.06244931],\n",
       "        [0.06650446],\n",
       "        [0.07177616],\n",
       "        [0.08069749],\n",
       "        [0.07319546],\n",
       "        [0.10097324],\n",
       "        [0.10178427],\n",
       "        [0.10502839],\n",
       "        [0.09529603],\n",
       "        [0.10097324],\n",
       "        [0.0973236 ],\n",
       "        [0.09712084],\n",
       "        [0.10016221],\n",
       "        [0.09813463],\n",
       "        [0.0973236 ],\n",
       "        [0.09205191],\n",
       "        [0.08759124],\n",
       "        [0.09509327],\n",
       "        [0.11192214],\n",
       "        [0.12570965],\n",
       "        [0.12895377],\n",
       "        [0.13037307],\n",
       "        [0.12489862],\n",
       "        [0.11313869],\n",
       "        [0.11111111],\n",
       "        [0.11922141],\n",
       "        [0.11901865],\n",
       "        [0.12043796],\n",
       "        [0.12935929],\n",
       "        [0.12854826],\n",
       "        [0.13341444],\n",
       "        [0.14476886],\n",
       "        [0.14537713],\n",
       "        [0.13746959],\n",
       "        [0.13665856],\n",
       "        [0.13665856],\n",
       "        [0.1311841 ],\n",
       "        [0.13341444],\n",
       "        [0.12327656],\n",
       "        [0.14111922],\n",
       "        [0.13746959],\n",
       "        [0.13990268],\n",
       "        [0.13017032],\n",
       "        [0.14152474],\n",
       "        [0.14111922],\n",
       "        [0.13138686],\n",
       "        [0.12915653],\n",
       "        [0.13098135],\n",
       "        [0.1269262 ],\n",
       "        [0.15166261],\n",
       "        [0.15004055],\n",
       "        [0.14193025],\n",
       "        [0.16017843],\n",
       "        [0.15693431],\n",
       "        [0.16504461],\n",
       "        [0.1770073 ],\n",
       "        [0.18146796],\n",
       "        [0.18815896],\n",
       "        [0.20924574],\n",
       "        [0.19424169],\n",
       "        [0.18106245],\n",
       "        [0.18207624],\n",
       "        [0.1960665 ],\n",
       "        [0.17680454],\n",
       "        [0.18207624],\n",
       "        [0.18004866],\n",
       "        [0.18207624],\n",
       "        [0.18876723],\n",
       "        [0.19383617],\n",
       "        [0.19099757],\n",
       "        [0.19505272],\n",
       "        [0.19809408],\n",
       "        [0.20640714],\n",
       "        [0.19748581],\n",
       "        [0.19525547],\n",
       "        [0.20437956],\n",
       "        [0.19870235],\n",
       "        [0.21796431],\n",
       "        [0.21553122],\n",
       "        [0.20600162],\n",
       "        [0.21654501],\n",
       "        [0.21654501],\n",
       "        [0.2175588 ],\n",
       "        [0.19870235],\n",
       "        [0.19018654],\n",
       "        [0.17802109],\n",
       "        [0.175588  ],\n",
       "        [0.16301703],\n",
       "        [0.16707218],\n",
       "        [0.17112733],\n",
       "        [0.17639903],\n",
       "        [0.18349554],\n",
       "        [0.1717356 ],\n",
       "        [0.16423358],\n",
       "        [0.16991079],\n",
       "        [0.17619627],\n",
       "        [0.16788321],\n",
       "        [0.16909976],\n",
       "        [0.17396594],\n",
       "        [0.17741281],\n",
       "        [0.18268451],\n",
       "        [0.19221411],\n",
       "        [0.18896999],\n",
       "        [0.19018654],\n",
       "        [0.17396594],\n",
       "        [0.17092457],\n",
       "        [0.16788321],\n",
       "        [0.17477697],\n",
       "        [0.16443633],\n",
       "        [0.14557989],\n",
       "        [0.15287916],\n",
       "        [0.15369019],\n",
       "        [0.15044607],\n",
       "        [0.14152474],\n",
       "        [0.15145985],\n",
       "        [0.13341444],\n",
       "        [0.12530414],\n",
       "        [0.11719384],\n",
       "        [0.11780211],\n",
       "        [0.12489862],\n",
       "        [0.14132198],\n",
       "        [0.13098135],\n",
       "        [0.12935929],\n",
       "        [0.13240065],\n",
       "        [0.12895377],\n",
       "        [0.12530414],\n",
       "        [0.13381995],\n",
       "        [0.14557989],\n",
       "        [0.15166261],\n",
       "        [0.15085158],\n",
       "        [0.14679643],\n",
       "        [0.14355231],\n",
       "        [0.12733171],\n",
       "        [0.14963504],\n",
       "        [0.14801298],\n",
       "        [0.15815085],\n",
       "        [0.16504461],\n",
       "        [0.15896188],\n",
       "        [0.16626115]]))"
      ]
     },
     "execution_count": 12,
     "metadata": {},
     "output_type": "execute_result"
    }
   ],
   "source": [
    "train_data,test_data"
   ]
  },
  {
   "cell_type": "code",
   "execution_count": 13,
   "id": "18245514",
   "metadata": {},
   "outputs": [],
   "source": [
    "def create_dataset(dataset, time_step=1):\n",
    "    train_X, train_Y = [], []\n",
    "    for i in range(len(dataset)-time_step-1):\n",
    "        a = dataset[i:(i+time_step), 0]   ###i=0, 0,1,2,3-----99   100 \n",
    "        train_X.append(a)\n",
    "        train_Y.append(dataset[i + time_step, 0])\n",
    "    return numpy.array(train_X), numpy.array(train_Y)"
   ]
  },
  {
   "cell_type": "code",
   "execution_count": 14,
   "id": "0531c6ba",
   "metadata": {},
   "outputs": [],
   "source": [
    "import numpy\n",
    "time_step = 100\n",
    "X_train, y_train = create_dataset(train_data, time_step)\n",
    "X_test, ytest = create_dataset(test_data, time_step)"
   ]
  },
  {
   "cell_type": "code",
   "execution_count": 15,
   "id": "7a26623c",
   "metadata": {},
   "outputs": [
    {
     "name": "stdout",
     "output_type": "stream",
     "text": [
      "(1425, 100)\n",
      "(1425,)\n"
     ]
    },
    {
     "data": {
      "text/plain": [
       "(None, None)"
      ]
     },
     "execution_count": 15,
     "metadata": {},
     "output_type": "execute_result"
    }
   ],
   "source": [
    "print(X_train.shape), print(y_train.shape)"
   ]
  },
  {
   "cell_type": "code",
   "execution_count": 16,
   "id": "68ed5fa6",
   "metadata": {},
   "outputs": [],
   "source": [
    "X_train =X_train.reshape(X_train.shape[0],X_train.shape[1] , 1)\n",
    "X_test = X_test.reshape(X_test.shape[0],X_test.shape[1] , 1)"
   ]
  },
  {
   "cell_type": "code",
   "execution_count": 17,
   "id": "d64a2e21",
   "metadata": {},
   "outputs": [],
   "source": [
    "from tensorflow.keras.models import Sequential\n",
    "from tensorflow.keras.layers import Dense\n",
    "from tensorflow.keras.layers import LSTM"
   ]
  },
  {
   "cell_type": "code",
   "execution_count": 18,
   "id": "444bcb81",
   "metadata": {},
   "outputs": [],
   "source": [
    "model=Sequential()\n",
    "model.add(LSTM(50,return_sequences=True,input_shape=(100,1)))\n",
    "model.add(LSTM(50,return_sequences=True))\n",
    "model.add(LSTM(50))\n",
    "model.add(Dense(1))\n",
    "model.compile(loss='mean_squared_error',optimizer='adam')"
   ]
  },
  {
   "cell_type": "code",
   "execution_count": 19,
   "id": "3bf5026a",
   "metadata": {},
   "outputs": [
    {
     "name": "stdout",
     "output_type": "stream",
     "text": [
      "Model: \"sequential\"\n",
      "_________________________________________________________________\n",
      " Layer (type)                Output Shape              Param #   \n",
      "=================================================================\n",
      " lstm (LSTM)                 (None, 100, 50)           10400     \n",
      "                                                                 \n",
      " lstm_1 (LSTM)               (None, 100, 50)           20200     \n",
      "                                                                 \n",
      " lstm_2 (LSTM)               (None, 50)                20200     \n",
      "                                                                 \n",
      " dense (Dense)               (None, 1)                 51        \n",
      "                                                                 \n",
      "=================================================================\n",
      "Total params: 50,851\n",
      "Trainable params: 50,851\n",
      "Non-trainable params: 0\n",
      "_________________________________________________________________\n"
     ]
    }
   ],
   "source": [
    "model.summary()"
   ]
  },
  {
   "cell_type": "code",
   "execution_count": 20,
   "id": "2187b2ba",
   "metadata": {},
   "outputs": [
    {
     "name": "stdout",
     "output_type": "stream",
     "text": [
      "Epoch 1/100\n",
      "23/23 [==============================] - 9s 199ms/step - loss: 0.0136 - val_loss: 0.0033\n",
      "Epoch 2/100\n",
      "23/23 [==============================] - 3s 143ms/step - loss: 0.0022 - val_loss: 8.2428e-04\n",
      "Epoch 3/100\n",
      "23/23 [==============================] - 3s 141ms/step - loss: 0.0016 - val_loss: 9.9174e-04\n",
      "Epoch 4/100\n",
      "23/23 [==============================] - 3s 145ms/step - loss: 0.0014 - val_loss: 8.9588e-04\n",
      "Epoch 5/100\n",
      "23/23 [==============================] - 3s 143ms/step - loss: 0.0013 - val_loss: 9.2092e-04\n",
      "Epoch 6/100\n",
      "23/23 [==============================] - 3s 141ms/step - loss: 0.0013 - val_loss: 9.2746e-04\n",
      "Epoch 7/100\n",
      "23/23 [==============================] - 3s 142ms/step - loss: 0.0012 - val_loss: 9.2651e-04\n",
      "Epoch 8/100\n",
      "23/23 [==============================] - 4s 155ms/step - loss: 0.0012 - val_loss: 8.4483e-04\n",
      "Epoch 9/100\n",
      "23/23 [==============================] - 3s 145ms/step - loss: 0.0010 - val_loss: 9.0881e-04\n",
      "Epoch 10/100\n",
      "23/23 [==============================] - 3s 146ms/step - loss: 9.8567e-04 - val_loss: 9.8982e-04\n",
      "Epoch 11/100\n",
      "23/23 [==============================] - 3s 143ms/step - loss: 9.9177e-04 - val_loss: 9.5891e-04\n",
      "Epoch 12/100\n",
      "23/23 [==============================] - 3s 143ms/step - loss: 0.0011 - val_loss: 7.5416e-04\n",
      "Epoch 13/100\n",
      "23/23 [==============================] - 3s 142ms/step - loss: 9.1735e-04 - val_loss: 8.7087e-04\n",
      "Epoch 14/100\n",
      "23/23 [==============================] - 3s 142ms/step - loss: 8.6186e-04 - val_loss: 6.8554e-04\n",
      "Epoch 15/100\n",
      "23/23 [==============================] - 3s 143ms/step - loss: 8.7321e-04 - val_loss: 0.0013\n",
      "Epoch 16/100\n",
      "23/23 [==============================] - 3s 143ms/step - loss: 0.0011 - val_loss: 8.3516e-04\n",
      "Epoch 17/100\n",
      "23/23 [==============================] - 3s 143ms/step - loss: 8.4245e-04 - val_loss: 7.8739e-04\n",
      "Epoch 18/100\n",
      "23/23 [==============================] - 3s 145ms/step - loss: 8.4043e-04 - val_loss: 6.6164e-04\n",
      "Epoch 19/100\n",
      "23/23 [==============================] - 3s 145ms/step - loss: 7.6346e-04 - val_loss: 7.4718e-04\n",
      "Epoch 20/100\n",
      "23/23 [==============================] - 3s 145ms/step - loss: 7.3781e-04 - val_loss: 7.6403e-04\n",
      "Epoch 21/100\n",
      "23/23 [==============================] - 3s 146ms/step - loss: 7.3746e-04 - val_loss: 8.9359e-04\n",
      "Epoch 22/100\n",
      "23/23 [==============================] - 3s 146ms/step - loss: 7.1093e-04 - val_loss: 6.8595e-04\n",
      "Epoch 23/100\n",
      "23/23 [==============================] - 3s 146ms/step - loss: 6.9138e-04 - val_loss: 7.7944e-04\n",
      "Epoch 24/100\n",
      "23/23 [==============================] - 3s 147ms/step - loss: 6.7255e-04 - val_loss: 7.1355e-04\n",
      "Epoch 25/100\n",
      "23/23 [==============================] - 3s 146ms/step - loss: 7.0353e-04 - val_loss: 9.2742e-04\n",
      "Epoch 26/100\n",
      "23/23 [==============================] - 3s 146ms/step - loss: 6.9101e-04 - val_loss: 7.9951e-04\n",
      "Epoch 27/100\n",
      "23/23 [==============================] - 3s 145ms/step - loss: 6.9551e-04 - val_loss: 7.8365e-04\n",
      "Epoch 28/100\n",
      "23/23 [==============================] - 3s 144ms/step - loss: 7.5307e-04 - val_loss: 5.8975e-04\n",
      "Epoch 29/100\n",
      "23/23 [==============================] - 3s 145ms/step - loss: 6.7940e-04 - val_loss: 7.5025e-04\n",
      "Epoch 30/100\n",
      "23/23 [==============================] - 3s 146ms/step - loss: 6.2249e-04 - val_loss: 8.0411e-04\n",
      "Epoch 31/100\n",
      "23/23 [==============================] - 3s 145ms/step - loss: 6.3277e-04 - val_loss: 9.1717e-04\n",
      "Epoch 32/100\n",
      "23/23 [==============================] - 3s 144ms/step - loss: 6.2536e-04 - val_loss: 6.0155e-04\n",
      "Epoch 33/100\n",
      "23/23 [==============================] - 3s 145ms/step - loss: 6.8910e-04 - val_loss: 5.3153e-04\n",
      "Epoch 34/100\n",
      "23/23 [==============================] - 3s 146ms/step - loss: 5.9605e-04 - val_loss: 5.4467e-04\n",
      "Epoch 35/100\n",
      "23/23 [==============================] - 3s 146ms/step - loss: 5.7261e-04 - val_loss: 4.8449e-04\n",
      "Epoch 36/100\n",
      "23/23 [==============================] - 3s 146ms/step - loss: 5.6468e-04 - val_loss: 4.5171e-04\n",
      "Epoch 37/100\n",
      "23/23 [==============================] - 3s 145ms/step - loss: 5.3401e-04 - val_loss: 5.1248e-04\n",
      "Epoch 38/100\n",
      "23/23 [==============================] - 3s 146ms/step - loss: 5.4639e-04 - val_loss: 5.6547e-04\n",
      "Epoch 39/100\n",
      "23/23 [==============================] - 3s 152ms/step - loss: 5.5960e-04 - val_loss: 4.5785e-04\n",
      "Epoch 40/100\n",
      "23/23 [==============================] - 4s 156ms/step - loss: 5.1937e-04 - val_loss: 5.9632e-04\n",
      "Epoch 41/100\n",
      "23/23 [==============================] - 4s 153ms/step - loss: 5.4928e-04 - val_loss: 5.4704e-04\n",
      "Epoch 42/100\n",
      "23/23 [==============================] - 4s 160ms/step - loss: 5.1446e-04 - val_loss: 4.1449e-04\n",
      "Epoch 43/100\n",
      "23/23 [==============================] - 4s 160ms/step - loss: 5.2132e-04 - val_loss: 4.5303e-04\n",
      "Epoch 44/100\n",
      "23/23 [==============================] - 4s 164ms/step - loss: 5.4553e-04 - val_loss: 5.3596e-04\n",
      "Epoch 45/100\n",
      "23/23 [==============================] - 4s 161ms/step - loss: 5.0492e-04 - val_loss: 4.0721e-04\n",
      "Epoch 46/100\n",
      "23/23 [==============================] - 4s 160ms/step - loss: 6.0780e-04 - val_loss: 3.7199e-04\n",
      "Epoch 47/100\n",
      "23/23 [==============================] - 4s 156ms/step - loss: 5.5219e-04 - val_loss: 4.0532e-04\n",
      "Epoch 48/100\n",
      "23/23 [==============================] - 4s 153ms/step - loss: 4.4415e-04 - val_loss: 4.4721e-04\n",
      "Epoch 49/100\n",
      "23/23 [==============================] - 4s 158ms/step - loss: 4.1826e-04 - val_loss: 6.8095e-04\n",
      "Epoch 50/100\n",
      "23/23 [==============================] - 4s 159ms/step - loss: 5.6477e-04 - val_loss: 6.0914e-04\n",
      "Epoch 51/100\n",
      "23/23 [==============================] - 4s 153ms/step - loss: 4.3913e-04 - val_loss: 4.7074e-04\n",
      "Epoch 52/100\n",
      "23/23 [==============================] - 3s 150ms/step - loss: 4.0610e-04 - val_loss: 4.2725e-04\n",
      "Epoch 53/100\n",
      "23/23 [==============================] - 3s 151ms/step - loss: 4.4378e-04 - val_loss: 4.9258e-04\n",
      "Epoch 54/100\n",
      "23/23 [==============================] - 4s 157ms/step - loss: 4.4968e-04 - val_loss: 5.2070e-04\n",
      "Epoch 55/100\n",
      "23/23 [==============================] - 4s 159ms/step - loss: 5.6741e-04 - val_loss: 5.4292e-04\n",
      "Epoch 56/100\n",
      "23/23 [==============================] - 3s 150ms/step - loss: 4.6449e-04 - val_loss: 4.5051e-04\n",
      "Epoch 57/100\n",
      "23/23 [==============================] - 3s 142ms/step - loss: 3.8239e-04 - val_loss: 4.5322e-04\n",
      "Epoch 58/100\n",
      "23/23 [==============================] - 3s 148ms/step - loss: 3.7682e-04 - val_loss: 3.6172e-04\n",
      "Epoch 59/100\n",
      "23/23 [==============================] - 4s 172ms/step - loss: 3.6551e-04 - val_loss: 3.4388e-04\n",
      "Epoch 60/100\n",
      "23/23 [==============================] - 4s 154ms/step - loss: 3.3098e-04 - val_loss: 3.4824e-04\n",
      "Epoch 61/100\n",
      "23/23 [==============================] - 4s 155ms/step - loss: 3.6234e-04 - val_loss: 2.6877e-04\n",
      "Epoch 62/100\n",
      "23/23 [==============================] - 4s 159ms/step - loss: 3.9524e-04 - val_loss: 3.3266e-04\n",
      "Epoch 63/100\n",
      "23/23 [==============================] - 4s 159ms/step - loss: 3.2322e-04 - val_loss: 4.3517e-04\n",
      "Epoch 64/100\n",
      "23/23 [==============================] - 4s 156ms/step - loss: 3.3303e-04 - val_loss: 5.0532e-04\n",
      "Epoch 65/100\n",
      "23/23 [==============================] - 4s 168ms/step - loss: 3.3574e-04 - val_loss: 3.5364e-04\n",
      "Epoch 66/100\n",
      "23/23 [==============================] - 4s 154ms/step - loss: 3.2182e-04 - val_loss: 3.3999e-04\n",
      "Epoch 67/100\n",
      "23/23 [==============================] - 3s 148ms/step - loss: 3.1371e-04 - val_loss: 2.6189e-04\n",
      "Epoch 68/100\n",
      "23/23 [==============================] - 3s 147ms/step - loss: 2.9750e-04 - val_loss: 3.1065e-04\n",
      "Epoch 69/100\n",
      "23/23 [==============================] - 3s 147ms/step - loss: 3.1195e-04 - val_loss: 3.2289e-04\n",
      "Epoch 70/100\n",
      "23/23 [==============================] - 3s 153ms/step - loss: 3.2819e-04 - val_loss: 2.8141e-04\n",
      "Epoch 71/100\n",
      "23/23 [==============================] - 3s 149ms/step - loss: 2.9186e-04 - val_loss: 2.8372e-04\n",
      "Epoch 72/100\n",
      "23/23 [==============================] - 3s 144ms/step - loss: 2.8368e-04 - val_loss: 3.9307e-04\n",
      "Epoch 73/100\n",
      "23/23 [==============================] - 3s 152ms/step - loss: 3.2353e-04 - val_loss: 2.5965e-04\n",
      "Epoch 74/100\n",
      "23/23 [==============================] - 4s 156ms/step - loss: 2.7984e-04 - val_loss: 2.4293e-04\n",
      "Epoch 75/100\n",
      "23/23 [==============================] - 4s 154ms/step - loss: 2.9992e-04 - val_loss: 2.4733e-04\n",
      "Epoch 76/100\n"
     ]
    },
    {
     "name": "stdout",
     "output_type": "stream",
     "text": [
      "23/23 [==============================] - 3s 150ms/step - loss: 2.7515e-04 - val_loss: 2.8550e-04\n",
      "Epoch 77/100\n",
      "23/23 [==============================] - 3s 142ms/step - loss: 2.9054e-04 - val_loss: 2.8985e-04\n",
      "Epoch 78/100\n",
      "23/23 [==============================] - 3s 148ms/step - loss: 2.7248e-04 - val_loss: 3.5261e-04\n",
      "Epoch 79/100\n",
      "23/23 [==============================] - 3s 147ms/step - loss: 3.2183e-04 - val_loss: 3.0407e-04\n",
      "Epoch 80/100\n",
      "23/23 [==============================] - 3s 149ms/step - loss: 2.8822e-04 - val_loss: 2.9477e-04\n",
      "Epoch 81/100\n",
      "23/23 [==============================] - 3s 146ms/step - loss: 2.6171e-04 - val_loss: 2.7213e-04\n",
      "Epoch 82/100\n",
      "23/23 [==============================] - 3s 152ms/step - loss: 2.6378e-04 - val_loss: 2.4970e-04\n",
      "Epoch 83/100\n",
      "23/23 [==============================] - 3s 152ms/step - loss: 2.8813e-04 - val_loss: 3.3766e-04\n",
      "Epoch 84/100\n",
      "23/23 [==============================] - 4s 155ms/step - loss: 3.1643e-04 - val_loss: 2.2479e-04\n",
      "Epoch 85/100\n",
      "23/23 [==============================] - 4s 155ms/step - loss: 2.8497e-04 - val_loss: 3.0414e-04\n",
      "Epoch 86/100\n",
      "23/23 [==============================] - 3s 151ms/step - loss: 2.8819e-04 - val_loss: 2.5413e-04\n",
      "Epoch 87/100\n",
      "23/23 [==============================] - 3s 150ms/step - loss: 2.8233e-04 - val_loss: 2.3648e-04\n",
      "Epoch 88/100\n",
      "23/23 [==============================] - 3s 149ms/step - loss: 2.6447e-04 - val_loss: 2.7630e-04\n",
      "Epoch 89/100\n",
      "23/23 [==============================] - 3s 151ms/step - loss: 2.6613e-04 - val_loss: 2.4468e-04\n",
      "Epoch 90/100\n",
      "23/23 [==============================] - 4s 153ms/step - loss: 2.5986e-04 - val_loss: 2.3404e-04\n",
      "Epoch 91/100\n",
      "23/23 [==============================] - 4s 160ms/step - loss: 2.3994e-04 - val_loss: 2.0534e-04\n",
      "Epoch 92/100\n",
      "23/23 [==============================] - 3s 153ms/step - loss: 2.8888e-04 - val_loss: 2.3239e-04\n",
      "Epoch 93/100\n",
      "23/23 [==============================] - 3s 148ms/step - loss: 2.8760e-04 - val_loss: 2.3389e-04\n",
      "Epoch 94/100\n",
      "23/23 [==============================] - 3s 149ms/step - loss: 3.0575e-04 - val_loss: 2.4182e-04\n",
      "Epoch 95/100\n",
      "23/23 [==============================] - 3s 143ms/step - loss: 2.9735e-04 - val_loss: 3.3871e-04\n",
      "Epoch 96/100\n",
      "23/23 [==============================] - 3s 146ms/step - loss: 2.8441e-04 - val_loss: 1.8530e-04\n",
      "Epoch 97/100\n",
      "23/23 [==============================] - 3s 141ms/step - loss: 2.4348e-04 - val_loss: 2.2406e-04\n",
      "Epoch 98/100\n",
      "23/23 [==============================] - 3s 143ms/step - loss: 2.6795e-04 - val_loss: 1.8052e-04\n",
      "Epoch 99/100\n",
      "23/23 [==============================] - 3s 143ms/step - loss: 2.7618e-04 - val_loss: 2.7294e-04\n",
      "Epoch 100/100\n",
      "23/23 [==============================] - 3s 143ms/step - loss: 2.3648e-04 - val_loss: 2.4100e-04\n"
     ]
    },
    {
     "data": {
      "text/plain": [
       "<keras.callbacks.History at 0x20c561091f0>"
      ]
     },
     "execution_count": 20,
     "metadata": {},
     "output_type": "execute_result"
    }
   ],
   "source": [
    "model.fit(X_train,y_train,validation_data=(X_test,ytest),epochs=100,batch_size=64,verbose=1)"
   ]
  },
  {
   "cell_type": "code",
   "execution_count": 21,
   "id": "cd6d4322",
   "metadata": {},
   "outputs": [],
   "source": [
    "import tensorflow as tf"
   ]
  },
  {
   "cell_type": "code",
   "execution_count": 22,
   "id": "bf470903",
   "metadata": {},
   "outputs": [
    {
     "data": {
      "text/plain": [
       "'2.7.0'"
      ]
     },
     "execution_count": 22,
     "metadata": {},
     "output_type": "execute_result"
    }
   ],
   "source": [
    "tf.__version__"
   ]
  },
  {
   "cell_type": "code",
   "execution_count": 23,
   "id": "89927bdc",
   "metadata": {},
   "outputs": [],
   "source": [
    "train_predict=model.predict(X_train)\n",
    "test_predict=model.predict(X_test)"
   ]
  },
  {
   "cell_type": "code",
   "execution_count": 24,
   "id": "6c2b294a",
   "metadata": {},
   "outputs": [],
   "source": [
    "train_predict=scaler.inverse_transform(train_predict)\n",
    "test_predict=scaler.inverse_transform(test_predict)"
   ]
  },
  {
   "cell_type": "code",
   "execution_count": 25,
   "id": "37ba3165",
   "metadata": {},
   "outputs": [
    {
     "data": {
      "text/plain": [
       "164.94579759645148"
      ]
     },
     "execution_count": 25,
     "metadata": {},
     "output_type": "execute_result"
    }
   ],
   "source": [
    "import math\n",
    "from sklearn.metrics import mean_squared_error\n",
    "math.sqrt(mean_squared_error(y_train,train_predict))"
   ]
  },
  {
   "cell_type": "code",
   "execution_count": 26,
   "id": "ea822786",
   "metadata": {},
   "outputs": [
    {
     "data": {
      "text/plain": [
       "106.77456749953468"
      ]
     },
     "execution_count": 26,
     "metadata": {},
     "output_type": "execute_result"
    }
   ],
   "source": [
    "math.sqrt(mean_squared_error(ytest,test_predict))"
   ]
  },
  {
   "cell_type": "code",
   "execution_count": 27,
   "id": "c2a2170e",
   "metadata": {},
   "outputs": [],
   "source": [
    "look_back=100\n",
    "trainPredictPlot = numpy.empty_like(df1)\n",
    "trainPredictPlot[:, :] = np.nan\n",
    "trainPredictPlot[look_back:len(train_predict)+look_back, :] = train_predict"
   ]
  },
  {
   "cell_type": "code",
   "execution_count": 28,
   "id": "1ce526b9",
   "metadata": {},
   "outputs": [],
   "source": [
    "testPredictPlot = numpy.empty_like(df1)\n",
    "testPredictPlot[:, :] = numpy.nan\n",
    "testPredictPlot[len(train_predict)+(look_back*2)+1:len(df1)-1, :] = test_predict"
   ]
  },
  {
   "cell_type": "code",
   "execution_count": 29,
   "id": "f81d7270",
   "metadata": {},
   "outputs": [
    {
     "data": {
      "image/png": "[encoded data removed]",
      "text/plain": [
       "<Figure size 432x288 with 1 Axes>"
      ]
     },
     "metadata": {
      "needs_background": "light"
     },
     "output_type": "display_data"
    }
   ],
   "source": [
    "plt.plot(scaler.inverse_transform(df1),color='blue')\n",
    "plt.show()"
   ]
  },
  {
   "cell_type": "code",
   "execution_count": 30,
   "id": "5f03230a",
   "metadata": {},
   "outputs": [
    {
     "data": {
      "image/png": "[encoded data removed]",
      "text/plain": [
       "<Figure size 432x288 with 1 Axes>"
      ]
     },
     "metadata": {
      "needs_background": "light"
     },
     "output_type": "display_data"
    },
    {
     "data": {
      "image/png": "[encoded data removed]",
      "text/plain": [
       "<Figure size 432x288 with 1 Axes>"
      ]
     },
     "metadata": {
      "needs_background": "light"
     },
     "output_type": "display_data"
    }
   ],
   "source": [
    "plt.plot(trainPredictPlot,color='red')\n",
    "plt.show()\n",
    "plt.plot(testPredictPlot,color='green')\n",
    "plt.show()"
   ]
  },
  {
   "cell_type": "code",
   "execution_count": 31,
   "id": "221cd95e",
   "metadata": {},
   "outputs": [
    {
     "data": {
      "image/png": "[encoded data removed]",
      "text/plain": [
       "<Figure size 432x288 with 1 Axes>"
      ]
     },
     "metadata": {
      "needs_background": "light"
     },
     "output_type": "display_data"
    }
   ],
   "source": [
    "plt.plot(trainPredictPlot,color='red')\n",
    "plt.plot(testPredictPlot,color='green')\n",
    "plt.show()"
   ]
  },
  {
   "cell_type": "code",
   "execution_count": 32,
   "id": "f54e6283",
   "metadata": {},
   "outputs": [
    {
     "data": {
      "image/png": "[encoded data removed]",
      "text/plain": [
       "<Figure size 432x288 with 1 Axes>"
      ]
     },
     "metadata": {
      "needs_background": "light"
     },
     "output_type": "display_data"
    }
   ],
   "source": [
    "plt.plot(scaler.inverse_transform(df1),color='blue')\n",
    "plt.plot(trainPredictPlot,color='red')\n",
    "plt.plot(testPredictPlot,color='green')\n",
    "plt.show()"
   ]
  },
  {
   "cell_type": "code",
   "execution_count": 33,
   "id": "1c1200c4",
   "metadata": {},
   "outputs": [
    {
     "data": {
      "text/plain": [
       "509"
      ]
     },
     "execution_count": 33,
     "metadata": {},
     "output_type": "execute_result"
    }
   ],
   "source": [
    "len(test_data)"
   ]
  },
  {
   "cell_type": "code",
   "execution_count": 34,
   "id": "654dbca0",
   "metadata": {},
   "outputs": [
    {
     "data": {
      "text/plain": [
       "(1, 168)"
      ]
     },
     "execution_count": 34,
     "metadata": {},
     "output_type": "execute_result"
    }
   ],
   "source": [
    "x_input=test_data[341:].reshape(1,-1)\n",
    "x_input.shape"
   ]
  },
  {
   "cell_type": "code",
   "execution_count": 35,
   "id": "e5de347c",
   "metadata": {},
   "outputs": [],
   "source": [
    "model.save(\"saved_model.h5\")"
   ]
  },
  {
   "cell_type": "code",
   "execution_count": null,
   "id": "3ebf4cd4",
   "metadata": {},
   "outputs": [],
   "source": []
  },
  {
   "cell_type": "code",
   "execution_count": null,
   "id": "248b9a98",
   "metadata": {},
   "outputs": [],
   "source": []
  },
  {
   "cell_type": "code",
   "execution_count": null,
   "id": "65732c15",
   "metadata": {},
   "outputs": [],
   "source": []
  },
  {
   "cell_type": "code",
   "execution_count": null,
   "id": "b38a78b4",
   "metadata": {},
   "outputs": [],
   "source": []
  },
  {
   "cell_type": "code",
   "execution_count": null,
   "id": "136b4248",
   "metadata": {},
   "outputs": [],
   "source": []
  },
  {
   "cell_type": "code",
   "execution_count": null,
   "id": "2a4717f9",
   "metadata": {},
   "outputs": [],
   "source": []
  },
  {
   "cell_type": "code",
   "execution_count": null,
   "id": "05d8ac9d",
   "metadata": {},
   "outputs": [],
   "source": []
  },
  {
   "cell_type": "code",
   "execution_count": null,
   "id": "182bee46",
   "metadata": {},
   "outputs": [],
   "source": []
  },
  {
   "cell_type": "code",
   "execution_count": null,
   "id": "1cfe6db7",
   "metadata": {},
   "outputs": [],
   "source": []
  },
  {
   "cell_type": "code",
   "execution_count": null,
   "id": "24460428",
   "metadata": {},
   "outputs": [],
   "source": []
  },
  {
   "cell_type": "code",
   "execution_count": null,
   "id": "2881fbaf",
   "metadata": {},
   "outputs": [],
   "source": []
  },
  {
   "cell_type": "code",
   "execution_count": null,
   "id": "954b53c8",
   "metadata": {},
   "outputs": [],
   "source": []
  },
  {
   "cell_type": "code",
   "execution_count": null,
   "id": "5d802ba3",
   "metadata": {},
   "outputs": [],
   "source": []
  },
  {
   "cell_type": "code",
   "execution_count": null,
   "id": "a7b183f6",
   "metadata": {},
   "outputs": [],
   "source": []
  }
 ],
 "metadata": {
  "kernelspec": {
   "display_name": "Python 3 (ipykernel)",
   "language": "python",
   "name": "python3"
  },
  "language_info": {
   "codemirror_mode": {
    "name": "ipython",
    "version": 3
   },
   "file_extension": ".py",
   "mimetype": "text/x-python",
   "name": "python",
   "nbconvert_exporter": "python",
   "pygments_lexer": "ipython3",
   "version": "3.9.6"
  }
 },
 "nbformat": 4,
 "nbformat_minor": 5
}
